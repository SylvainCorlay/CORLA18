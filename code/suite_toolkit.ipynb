{
 "cells": [
  {
   "cell_type": "markdown",
   "metadata": {},
   "source": [
    "# Tools for SUITE Risk-Limiting Election Audits\n",
    "\n",
    "This Jupyter notebook implements some tools to conduct \"hybrid\" stratified risk-limiting audits as described in Risk-Limiting Audits by Stratified Union-Intersection Tests of Elections (SUITE), by Ottoboni, Stark, Lindeman, and McBurnett.\n",
    "\n",
    "For an implementation of tools for \"comparison\" risk-limiting audits as described in AGI, see http://statistics.berkeley.edu/~stark/Vote/auditTools.htm. For the sister ballot polling tool, see https://www.stat.berkeley.edu/~stark/Vote/ballotPollTools.htm.\n",
    "\n",
    "The tools on this page help perform the following steps:\n",
    "\n",
    "* Choose a number of ballots to audit in each stratum initially, on the assumption that the contest outcome is correct.\n",
    "* Select random samples of ballots in each stratum.\n",
    "* Find those ballots using ballot manifests.\n",
    "* Determine whether the audit can stop, given the votes on the ballots in the sample. \n",
    "* If the audit cannot stop yet, estimate how many additional ballots will need to be audited.\n",
    "\n",
    "This notebook is already filled out with an example election. It can be run from start to finish to demonstrate how the tool works. The numbers in the example can be deleted and replaced with actual data for an audit."
   ]
  },
  {
   "cell_type": "markdown",
   "metadata": {},
   "source": [
    "## Introduction to Jupyter Notebooks\n",
    "\n",
    "We leave [a comprehensive introduction to the Jupyter notebook](https://jupyter-notebook.readthedocs.io/en/stable/notebook.html) to the experts, but below are a few features you should know to use this tool:\n",
    "\n",
    "* notebooks are comprised of _cells_, blocks of code that can be run together. To the left of a code cell, you will see either [] (indicating that it has not been run yet) or [x] (where x is a number indicating that it was the xth cell to be run). You can the code in a cell by clicking into the cell, indicated by a green box around the cell, and running `Ctrl + Enter`.\n",
    "* code lines that begin with `#` are comments. They're not actually run, but are there to describe what the code is doing.\n",
    "* the text in a notebook is also written in a cell. Instead of a code cell, it's a Markdown cell. Clicking on a text cell will make it editable; running `Ctrl + Enter` will render it back into text.\n",
    "* the order in which cells are executed matters. Code in later cells depends on earlier cells. However, it is _possible_ to run cells out of order or rerun cells that have been run earlier; this can cause problem. In general, it is __best practice__ to rerun the entire notebook after you have filled in the values you want. To do so, click on the `Kernel` menu at the top of the page and select `Restart & Run All`. This will clear the memory and rerun everything in the prescribed order.\n",
    "\n",
    "\n",
    "The following cell imports all the necessary functionality from packages."
   ]
  },
  {
   "cell_type": "code",
   "execution_count": 1,
   "metadata": {
    "collapsed": false
   },
   "outputs": [
    {
     "name": "stderr",
     "output_type": "stream",
     "text": [
      "/Library/Frameworks/Python.framework/Versions/3.4/lib/python3.4/importlib/_bootstrap.py:321: RuntimeWarning: numpy.dtype size changed, may indicate binary incompatibility. Expected 96, got 88\n",
      "  return f(*args, **kwds)\n"
     ]
    }
   ],
   "source": [
    "from __future__ import print_function\n",
    "\n",
    "from ipywidgets import interact, interactive, fixed, interact_manual\n",
    "import ipywidgets as widgets\n",
    "from IPython.display import display, HTML\n",
    "\n",
    "from collections import OrderedDict\n",
    "from itertools import product\n",
    "import math\n",
    "import json\n",
    "import pprint\n",
    "\n",
    "import numpy as np\n",
    "from ballot_comparison import ballot_comparison_pvalue\n",
    "from fishers_combination import  maximize_fisher_combined_pvalue, create_modulus\n",
    "from sprt import ballot_polling_sprt\n",
    "\n",
    "from cryptorandom.cryptorandom import SHA256\n",
    "from cryptorandom.sample import random_sample\n",
    "\n",
    "from suite_tools import write_audit_parameters, write_audit_results, \\\n",
    "        check_valid_audit_parameters, check_valid_vote_counts, \\\n",
    "        check_overvote_rates, find_winners_losers, print_reported_votes, \\\n",
    "        estimate_n, estimate_escalation_n, \\\n",
    "        parse_manifest, unique_manifest, find_ballot, \\\n",
    "        audit_contest\n",
    "    \n",
    "import warnings\n",
    "warnings.filterwarnings(\"ignore\")"
   ]
  },
  {
   "cell_type": "markdown",
   "metadata": {},
   "source": [
    "# Input the global audit parameters.\n",
    "\n",
    "For an audit, you should input the following global parameters in the cell below:\n",
    "\n",
    "* contest-specific parameters:\n",
    "    * `risk_limit`: the risk limit for the audit\n",
    "    * `stratum_sizes`: total ballots in the two strata, [CVR total, no-CVR total]\n",
    "    * `num_winners`: number of winners in the contest\n",
    "* software parameters:\n",
    "    * `seed`: the numeric seed for the pseudo-random number generator used to draw samples of ballots. Use, e.g., 20 rolls of a 10-sided die \n",
    "    * `gamma`: the gamma parameter used in the ballot-polling method from Lindeman and Stark (2012). Default value of 1.03905 is generally accepted\n",
    "    * `lambda_step`: the initial step size in the grid search over the way error is allocated across the CVR and no-CVR strata in SUITE. Default 0.05 is acceptable\n",
    "* initial sample size estimate parameters:\n",
    "    * `o1_rate`: expected rate of 1-vote overstatements in the CVR stratum\n",
    "    * `o2_rate`: expected rate of 2-vote overstatements in the CVR stratum\n",
    "    * `u1_rate`: expected rate of 1-vote understatements in the CVR stratum\n",
    "    * `u2_rate`: expected rate of 2-vote understatements in the CVR stratum\n",
    "    * `n_ratio`: what fraction of the sample is taken from the CVR stratum. Default is to allocate sample in proportion to ballots cast in each stratum.\n",
    "    \n"
   ]
  },
  {
   "cell_type": "code",
   "execution_count": 2,
   "metadata": {
    "collapsed": true
   },
   "outputs": [],
   "source": [
    "# contest-specific parameters\n",
    "risk_limit = 0.05    # risk limit\n",
    "stratum_sizes = [100000, 5000]  # total ballots in the two strata, CVR, no-CVR\n",
    "num_winners = 2      # maximum number of winners, per social choice function"
   ]
  },
  {
   "cell_type": "code",
   "execution_count": 3,
   "metadata": {
    "collapsed": true
   },
   "outputs": [],
   "source": [
    "# software parameters\n",
    "seed = 12345678901234567890  # use, e.g., 20 rolls of a 10-sided die\n",
    "gamma=1.03905         # gamma from Lindeman and Stark (2012)\n",
    "lambda_step = 0.05    # stepsize for the discrete bounds on Fisher's combining function"
   ]
  },
  {
   "cell_type": "code",
   "execution_count": 4,
   "metadata": {
    "collapsed": true
   },
   "outputs": [],
   "source": [
    "# initial sample size parameters\n",
    "o1_rate = 0.002       # expect 2 1-vote overstatements per 1000 ballots in the CVR stratum\n",
    "o2_rate = 0           # expect 0 2-vote overstatements\n",
    "u1_rate = 0           # expect 0 1-vote understatements\n",
    "u2_rate = 0           # expect 0 2-vote understatements\n",
    "n_ratio = stratum_sizes[0]/np.sum(stratum_sizes) \n",
    "                     # allocate sample in proportion to ballots cast in each stratum"
   ]
  },
  {
   "cell_type": "code",
   "execution_count": 5,
   "metadata": {
    "collapsed": false
   },
   "outputs": [],
   "source": [
    "check_valid_audit_parameters(risk_limit, lambda_step, o1_rate, o2_rate, \\\n",
    "                                 u1_rate, u2_rate, stratum_sizes, n_ratio, num_winners)"
   ]
  },
  {
   "cell_type": "code",
   "execution_count": 6,
   "metadata": {
    "collapsed": false
   },
   "outputs": [],
   "source": [
    "write_audit_parameters(\"audit_parameters.json\",\\\n",
    "                       risk_limit, stratum_sizes, num_winners, seed, gamma, \\\n",
    "                       lambda_step, o1_rate, o2_rate, \\\n",
    "                       u1_rate, u2_rate, n_ratio)"
   ]
  },
  {
   "cell_type": "markdown",
   "metadata": {},
   "source": [
    "# Enter the reported votes\n",
    "\n",
    "Candidates are stored in a data structure called a dictionary. Enter the candidate name and the votes in each stratum, [votes in CVR stratum, votes in no-CVR stratum], in the cell below. The following cell will calculate the vote totals, margins, winners, and losers."
   ]
  },
  {
   "cell_type": "code",
   "execution_count": 7,
   "metadata": {
    "collapsed": false
   },
   "outputs": [],
   "source": [
    "# input number of winners\n",
    "# input names as well as reported votes in each stratum\n",
    "\n",
    "# candidates are a dict with name, [votes in CVR stratum, votes in no-CVR stratum]\n",
    "candidates = { \"candidate 3\": [30000, 500],\n",
    "               \"candidate 2\": [50000, 1000],\n",
    "               \"candidate 1\": [10000, 500],\n",
    "               \"candidate 4\": [500, 10]}\n",
    "\n",
    "# Run validity check on the input vote totals\n",
    "check_valid_vote_counts(candidates, num_winners, stratum_sizes)"
   ]
  },
  {
   "cell_type": "code",
   "execution_count": 8,
   "metadata": {
    "collapsed": false
   },
   "outputs": [],
   "source": [
    "# compute reported winners, losers, and pairwise margins. Nothing should be printed.\n",
    "(candidates, margins, winners, losers) = find_winners_losers(candidates, num_winners)\n",
    "  \n",
    "# Check that overstatement rates are compatible with the reported results\n",
    "check_overvote_rates(margins=margins, total_votes=sum(stratum_sizes), \n",
    "                     o1_rate=o1_rate, o2_rate=o2_rate)"
   ]
  },
  {
   "cell_type": "code",
   "execution_count": 9,
   "metadata": {
    "collapsed": false
   },
   "outputs": [
    {
     "name": "stdout",
     "output_type": "stream",
     "text": [
      "\n",
      "Total reported votes:\n",
      "\t\t\tCVR\tno-CVR\ttotal\t% of all votes\t% of valid votes\n",
      "\t candidate 2 : 50000 \t 1000 \t 51000 \t 48.57% \t 55.13%\n",
      "\t candidate 3 : 30000 \t 500 \t 30500 \t 29.05% \t 32.97%\n",
      "\t candidate 1 : 10000 \t 500 \t 10500 \t 10.00% \t 11.35%\n",
      "\t candidate 4 : 500 \t 10 \t 510 \t 0.49% \t 0.55%\n",
      "\n",
      "\t valid votes:\t 90500 \t 2010 \t 92510 \t 88.10%\n",
      "\n",
      "\t non-votes:\t 9500 \t 2990 \t 12490 \t 11.90%\n",
      "\n",
      "Reported winners:\n",
      "\t candidate 2\n",
      "\t candidate 3\n",
      "\n",
      "Reported losers:\n",
      "\t candidate 1\n",
      "\t candidate 4\n",
      "\n",
      "\n",
      "Reported margins:\n",
      "\t candidate 2 beat candidate 4 by 50,490 votes\n",
      "\t candidate 2 beat candidate 1 by 40,500 votes\n",
      "\t candidate 3 beat candidate 4 by 29,990 votes\n",
      "\t candidate 3 beat candidate 1 by 20,000 votes\n",
      "\n",
      "Smallest reported margin: 20,000 \n",
      "Corresponding reported diluted margin: 19.05%\n"
     ]
    }
   ],
   "source": [
    "# print reported winners, losers, and pairwise margins\n",
    "print_reported_votes(candidates, winners, losers, margins, stratum_sizes,\\\n",
    "                     print_alphabetical=False)"
   ]
  },
  {
   "cell_type": "markdown",
   "metadata": {},
   "source": [
    "# Initial sample size estimates.\n",
    "\n",
    "The initial sample size tool helps you anticipate the number of randomly selected ballots that might need to be inspected to attain a given limit on the risk, under the assumption that the reported percentages for each candidate are correct. \n",
    "\n",
    "It is completely legitimate to sample one at a time and rerun the SUITE calculations, but this form can help auditors anticipate how many ballots the audit is likely to require and to retrieve ballots more efficiently.\n",
    "\n",
    "This code will estimate the sample size needed to attain the desired risk limit in an audit of the contest between each pair of winning and losing candidates. The overall sample size will be allocated to the CVR stratum in `n_ratio` proportion and to the no-CVR stratum in `1-n_ratio` proportion. The sample size estimates for each pair will be printed below. The expected sample size needed for the audit is the _maximum_ of the sample sizes for each winner, loser pair: the sample must be large enough to confirm the closest margin.\n",
    "\n",
    "Taking a larger initial sample can avoid needing to expand the sample later, depending on the rate of ballots for each candidate in the sample. Avoiding \"escalation\" can make the audit less complicated.\n"
   ]
  },
  {
   "cell_type": "code",
   "execution_count": 10,
   "metadata": {
    "collapsed": false
   },
   "outputs": [],
   "source": [
    "# Calculate expected sample size across (winner, loser) pairs\n",
    "\n",
    "sample_sizes = {}\n",
    "\n",
    "for k in product(winners, losers):\n",
    "    sample_sizes[k] = estimate_n(N_w1 = candidates[k[0]][0],\\\n",
    "                                 N_w2 = candidates[k[0]][1],\\\n",
    "                                 N_l1 = candidates[k[1]][0],\\\n",
    "                                 N_l2 = candidates[k[1]][1],\\\n",
    "                                 N1 = stratum_sizes[0],\\\n",
    "                                 N2 = stratum_sizes[1],\\\n",
    "                                 o1_rate = o1_rate,\\\n",
    "                                 o2_rate = o2_rate,\\\n",
    "                                 u1_rate = u1_rate,\\\n",
    "                                 u2_rate = u2_rate,\\\n",
    "                                 n_ratio = n_ratio,\\\n",
    "                                 risk_limit = risk_limit,\\\n",
    "                                 gamma = gamma,\\\n",
    "                                 stepsize = lambda_step,\\\n",
    "                                 min_n = 5,\\\n",
    "                                 risk_limit_tol = 0.8)"
   ]
  },
  {
   "cell_type": "code",
   "execution_count": 11,
   "metadata": {
    "collapsed": false,
    "scrolled": true
   },
   "outputs": [
    {
     "name": "stdout",
     "output_type": "stream",
     "text": [
      "estimated sample sizes for each contest:\n",
      "\n",
      "{('candidate 2', 'candidate 1'): (27, 1),\n",
      " ('candidate 2', 'candidate 4'): (21, 1),\n",
      " ('candidate 3', 'candidate 1'): (58, 2),\n",
      " ('candidate 3', 'candidate 4'): (36, 1)}\n",
      "\n",
      "\n",
      "expected minimum sample size needed to confirm all pairs: 60\n"
     ]
    }
   ],
   "source": [
    "sample_size = np.amax([v[0]+v[1] for v in sample_sizes.values()])\n",
    "\n",
    "print(\"estimated sample sizes for each contest:\\n\")\n",
    "pprint.pprint(sample_sizes)\n",
    "print('\\n\\nexpected minimum sample size needed to confirm all pairs:', sample_size)"
   ]
  },
  {
   "cell_type": "markdown",
   "metadata": {},
   "source": [
    "# Random sampling"
   ]
  },
  {
   "cell_type": "markdown",
   "metadata": {},
   "source": [
    "The next tool helps generate pseudo-random samples of ballots in each stratum. Further below, there is a form to help find the individual, randomly selected ballots among the batches in which ballots are stored.\n",
    "\n",
    "The first cell below initializes the SHA-256 cryptographically secure pseudo-random number generator. Details on why you might want to use this pseudo-random number generator instead of the Python default can be found in [Stark and Ottoboni (2018)](https://arxiv.org/abs/1810.10985). \n",
    "\n",
    "Input your desired sample sizes in the second cell below. Input the number of ballots you want in the sample. The default values that are pre-filled are taken from the initial sample size estimates above. \n",
    "\n",
    "The third cell should not be modified. It draws the samples from each stratum, using sampling _with_ replacement for the CVR stratum and sampling _without_ replacement for the no-CVR stratum. This means that some ballots in the CVR stratum could be sampled more than once.\n",
    "\n",
    "\n",
    "**NOTE:**\n",
    "If this section is giving errors, you probably need to update your version of `cryptorandom`.\n",
    "\n",
    "```\n",
    "pip install [--update] cryptorandom\n",
    "```"
   ]
  },
  {
   "cell_type": "code",
   "execution_count": 12,
   "metadata": {
    "collapsed": true
   },
   "outputs": [],
   "source": [
    "# initialize the PRNG\n",
    "prng = SHA256(seed)   "
   ]
  },
  {
   "cell_type": "code",
   "execution_count": 13,
   "metadata": {
    "collapsed": true
   },
   "outputs": [],
   "source": [
    "# Input the sample sizes for each stratum. \n",
    "# Defaults to those found using the initial sample size tool above.\n",
    "n1 = math.ceil(sample_size*n_ratio)    \n",
    "n2 = sample_size-n1"
   ]
  },
  {
   "cell_type": "code",
   "execution_count": 14,
   "metadata": {
    "collapsed": true
   },
   "outputs": [],
   "source": [
    "# CVR stratum initial sample size, sampled with replacement\n",
    "sample1 = prng.randint(1, stratum_sizes[0]+1, size=n1)\n",
    "\n",
    "# No-CVR ballots are sampled without replacement\n",
    "sample2 = random_sample(stratum_sizes[1], size=n2, replace=False, prng=prng)"
   ]
  },
  {
   "cell_type": "markdown",
   "metadata": {},
   "source": [
    "### CVR stratum sample"
   ]
  },
  {
   "cell_type": "code",
   "execution_count": 15,
   "metadata": {
    "collapsed": false
   },
   "outputs": [
    {
     "name": "stdout",
     "output_type": "stream",
     "text": [
      "CVR stratum sample:\n",
      " [76116 45424 33501 45326  2081 56264 25122 16602 79743 61814 57922 41676\n",
      " 95332 38891 17757 64352 84257 47365 10908 97791 77941 73573 51855 88527\n",
      " 35549 20934 61419 70683 70220 45067 67903 94304 20823 50570 88735  9973\n",
      " 44578 34320  8262 32532 85102 87511 63375 96612 52917 91127 84152 74227\n",
      " 76674 76640 62444 83868  3974 81503 82205 41161 28136 12244]\n"
     ]
    }
   ],
   "source": [
    "print(\"CVR stratum sample:\\n\", sample1)"
   ]
  },
  {
   "cell_type": "code",
   "execution_count": 16,
   "metadata": {
    "collapsed": false,
    "scrolled": true
   },
   "outputs": [
    {
     "name": "stdout",
     "output_type": "stream",
     "text": [
      "CVR stratum sample, sorted:\n",
      " [ 2081  3974  8262  9973 10908 12244 16602 17757 20823 20934 25122 28136\n",
      " 32532 33501 34320 35549 38891 41161 41676 44578 45067 45326 45424 47365\n",
      " 50570 51855 52917 56264 57922 61419 61814 62444 63375 64352 67903 70220\n",
      " 70683 73573 74227 76116 76640 76674 77941 79743 81503 82205 83868 84152\n",
      " 84257 85102 87511 88527 88735 91127 94304 95332 96612 97791]\n"
     ]
    }
   ],
   "source": [
    "print(\"CVR stratum sample, sorted:\\n\", np.sort(sample1))"
   ]
  },
  {
   "cell_type": "code",
   "execution_count": 17,
   "metadata": {
    "collapsed": false
   },
   "outputs": [
    {
     "name": "stdout",
     "output_type": "stream",
     "text": [
      "CVR stratum sample, sorted, duplicates removed:\n",
      " [ 2081  3974  8262  9973 10908 12244 16602 17757 20823 20934 25122 28136\n",
      " 32532 33501 34320 35549 38891 41161 41676 44578 45067 45326 45424 47365\n",
      " 50570 51855 52917 56264 57922 61419 61814 62444 63375 64352 67903 70220\n",
      " 70683 73573 74227 76116 76640 76674 77941 79743 81503 82205 83868 84152\n",
      " 84257 85102 87511 88527 88735 91127 94304 95332 96612 97791]\n"
     ]
    }
   ],
   "source": [
    "print(\"CVR stratum sample, sorted, duplicates removed:\\n\", np.unique(np.sort(sample1)))"
   ]
  },
  {
   "cell_type": "code",
   "execution_count": 18,
   "metadata": {
    "collapsed": false
   },
   "outputs": [
    {
     "name": "stdout",
     "output_type": "stream",
     "text": [
      "CVR stratum repeated ballots:\n",
      " []\n"
     ]
    }
   ],
   "source": [
    "m = np.zeros_like(sample1, dtype=bool)\n",
    "m[np.unique(sample1, return_index=True)[1]] = True\n",
    "print(\"CVR stratum repeated ballots:\\n\", sample1[~m])"
   ]
  },
  {
   "cell_type": "markdown",
   "metadata": {},
   "source": [
    "### No-CVR sample"
   ]
  },
  {
   "cell_type": "code",
   "execution_count": 19,
   "metadata": {
    "collapsed": false
   },
   "outputs": [
    {
     "name": "stdout",
     "output_type": "stream",
     "text": [
      "No-CVR stratum sample:\n",
      " [1132 4783]\n"
     ]
    }
   ],
   "source": [
    "print(\"No-CVR stratum sample:\\n\", sample2)"
   ]
  },
  {
   "cell_type": "code",
   "execution_count": 20,
   "metadata": {
    "collapsed": false,
    "scrolled": true
   },
   "outputs": [
    {
     "name": "stdout",
     "output_type": "stream",
     "text": [
      "No-CVR stratum sample, sorted:\n",
      " [1132 4783]\n"
     ]
    }
   ],
   "source": [
    "print(\"No-CVR stratum sample, sorted:\\n\", np.sort(sample2))"
   ]
  },
  {
   "cell_type": "markdown",
   "metadata": {},
   "source": [
    "# Find ballots using ballot manifest\n",
    "\n",
    "Generally, ballots will be stored in batches, for instance, separated by precinct and mode of voting. To make it easier to find individual ballots, it helps to have a ballot manifest that describes how the ballots are stored. \n",
    "\n",
    "\n",
    "Batch label\t| ballots\n",
    "--- |  ---\n",
    "Polling place precinct 1  |\t130\n",
    "Vote by mail precinct 1\t  | 172\n",
    "Polling place precinct 2  | 112\n",
    "Vote by mail precinct 2\t  | 201\n",
    "Polling place precinct 3  | 197\n",
    "Vote by mail precinct 3   | 188\n",
    "\n",
    "\n",
    "If ballot 500 is selected for audit, which ballot is that? If we take the listing of batches in the order given by the manifest, and we require that within each batch, the ballots are in an order that does not change during the audit, then the 500th ballot is the 86th ballot among the vote by mail ballots for precinct 2: The first three batches have a total of 130+172+112 = 414 ballots. The first ballot in the fourth batch is ballot 415. Ballot 500 is the 86th ballot in the fourth batch. The ballot look-up tool transforms a list of ballot numbers and a ballot manifest into a list of ballots in each batch.\n",
    "\n",
    "There must be separate ballot manifests for ballots in the CVR stratum and for ballots in the no-CVR stratum. The manifests should be input as a Python structure called a _list_. Lists are stored in square brackets, `[` `]`, and items in the list are separated by commas.\n",
    "\n",
    "Each ballot manifest entry must have a batch label, a comma, and one of the following:\n",
    "  1. the number of ballots in the batch \n",
    "  1. a range specified with a colon (e.g., 131:302), or \n",
    "  1. a list of ballot identifiers within parentheses, separated by spaces (e.g., (996 998 1000)).\n",
    "\n",
    "Each line should have exactly one comma; do **not** include commas in the batch label.\n",
    "\n",
    "The total number of ballots in the manifest must equal the number cast in the contest that is to be audited using the sample."
   ]
  },
  {
   "cell_type": "code",
   "execution_count": 21,
   "metadata": {
    "collapsed": true
   },
   "outputs": [],
   "source": [
    "# Suppose the ballot manifests are manually entered for now.\n",
    "\n",
    "ballot_manifest_cvr = ['1, 10000', \n",
    "                       '2, 10001:99998', \n",
    "                       '3, (205 210)'\n",
    "                      ]\n",
    "ballot_manifest_poll = ['1, 1000', \n",
    "                        '2, 1001:4998', \n",
    "                        '3, (205 210)'\n",
    "                       ]"
   ]
  },
  {
   "cell_type": "code",
   "execution_count": 22,
   "metadata": {
    "collapsed": true
   },
   "outputs": [],
   "source": [
    "# step 1: expand the ballot manifest into a dict. keys are batches, values are ballot numbers.\n",
    "cvr_manifest_parsed = parse_manifest(ballot_manifest_cvr)\n",
    "poll_manifest_parsed = parse_manifest(ballot_manifest_poll)"
   ]
  },
  {
   "cell_type": "code",
   "execution_count": 23,
   "metadata": {
    "collapsed": false
   },
   "outputs": [],
   "source": [
    "# count ballots listed in the manifests\n",
    "listed_cvr = np.sum([len(v) for v in cvr_manifest_parsed.values()])\n",
    "listed_poll = np.sum([len(v) for v in poll_manifest_parsed.values()])\n",
    "\n",
    "# test that manifest matches reported ballot totals\n",
    "\n",
    "assert listed_cvr == stratum_sizes[0]\n",
    "assert listed_poll == stratum_sizes[1]"
   ]
  },
  {
   "cell_type": "code",
   "execution_count": 24,
   "metadata": {
    "collapsed": false
   },
   "outputs": [],
   "source": [
    "# step 2: give ballots unique IDs\n",
    "\n",
    "unique_cvr_manifest = unique_manifest(cvr_manifest_parsed)\n",
    "unique_poll_manifest = unique_manifest(poll_manifest_parsed)"
   ]
  },
  {
   "cell_type": "code",
   "execution_count": 25,
   "metadata": {
    "collapsed": false
   },
   "outputs": [
    {
     "name": "stdout",
     "output_type": "stream",
     "text": [
      "CVR Stratum\n"
     ]
    },
    {
     "data": {
      "text/html": [
       "<table><tr><td>sampled ballot</td><td>batch label</td><td>which ballot in batch</td><td># times sampled</td></tr><tr><td>2081</td><td>1</td><td>2081</td><td>1</td></tr><tr><td>3974</td><td>1</td><td>3974</td><td>1</td></tr><tr><td>8262</td><td>1</td><td>8262</td><td>1</td></tr><tr><td>9973</td><td>1</td><td>9973</td><td>1</td></tr><tr><td>10908</td><td>2</td><td>908</td><td>1</td></tr><tr><td>12244</td><td>2</td><td>2244</td><td>1</td></tr><tr><td>16602</td><td>2</td><td>6602</td><td>1</td></tr><tr><td>17757</td><td>2</td><td>7757</td><td>1</td></tr><tr><td>20823</td><td>2</td><td>10823</td><td>1</td></tr><tr><td>20934</td><td>2</td><td>10934</td><td>1</td></tr><tr><td>25122</td><td>2</td><td>15122</td><td>1</td></tr><tr><td>28136</td><td>2</td><td>18136</td><td>1</td></tr><tr><td>32532</td><td>2</td><td>22532</td><td>1</td></tr><tr><td>33501</td><td>2</td><td>23501</td><td>1</td></tr><tr><td>34320</td><td>2</td><td>24320</td><td>1</td></tr><tr><td>35549</td><td>2</td><td>25549</td><td>1</td></tr><tr><td>38891</td><td>2</td><td>28891</td><td>1</td></tr><tr><td>41161</td><td>2</td><td>31161</td><td>1</td></tr><tr><td>41676</td><td>2</td><td>31676</td><td>1</td></tr><tr><td>44578</td><td>2</td><td>34578</td><td>1</td></tr><tr><td>45067</td><td>2</td><td>35067</td><td>1</td></tr><tr><td>45326</td><td>2</td><td>35326</td><td>1</td></tr><tr><td>45424</td><td>2</td><td>35424</td><td>1</td></tr><tr><td>47365</td><td>2</td><td>37365</td><td>1</td></tr><tr><td>50570</td><td>2</td><td>40570</td><td>1</td></tr><tr><td>51855</td><td>2</td><td>41855</td><td>1</td></tr><tr><td>52917</td><td>2</td><td>42917</td><td>1</td></tr><tr><td>56264</td><td>2</td><td>46264</td><td>1</td></tr><tr><td>57922</td><td>2</td><td>47922</td><td>1</td></tr><tr><td>61419</td><td>2</td><td>51419</td><td>1</td></tr><tr><td>61814</td><td>2</td><td>51814</td><td>1</td></tr><tr><td>62444</td><td>2</td><td>52444</td><td>1</td></tr><tr><td>63375</td><td>2</td><td>53375</td><td>1</td></tr><tr><td>64352</td><td>2</td><td>54352</td><td>1</td></tr><tr><td>67903</td><td>2</td><td>57903</td><td>1</td></tr><tr><td>70220</td><td>2</td><td>60220</td><td>1</td></tr><tr><td>70683</td><td>2</td><td>60683</td><td>1</td></tr><tr><td>73573</td><td>2</td><td>63573</td><td>1</td></tr><tr><td>74227</td><td>2</td><td>64227</td><td>1</td></tr><tr><td>76116</td><td>2</td><td>66116</td><td>1</td></tr><tr><td>76640</td><td>2</td><td>66640</td><td>1</td></tr><tr><td>76674</td><td>2</td><td>66674</td><td>1</td></tr><tr><td>77941</td><td>2</td><td>67941</td><td>1</td></tr><tr><td>79743</td><td>2</td><td>69743</td><td>1</td></tr><tr><td>81503</td><td>2</td><td>71503</td><td>1</td></tr><tr><td>82205</td><td>2</td><td>72205</td><td>1</td></tr><tr><td>83868</td><td>2</td><td>73868</td><td>1</td></tr><tr><td>84152</td><td>2</td><td>74152</td><td>1</td></tr><tr><td>84257</td><td>2</td><td>74257</td><td>1</td></tr><tr><td>85102</td><td>2</td><td>75102</td><td>1</td></tr><tr><td>87511</td><td>2</td><td>77511</td><td>1</td></tr><tr><td>88527</td><td>2</td><td>78527</td><td>1</td></tr><tr><td>88735</td><td>2</td><td>78735</td><td>1</td></tr><tr><td>91127</td><td>2</td><td>81127</td><td>1</td></tr><tr><td>94304</td><td>2</td><td>84304</td><td>1</td></tr><tr><td>95332</td><td>2</td><td>85332</td><td>1</td></tr><tr><td>96612</td><td>2</td><td>86612</td><td>1</td></tr><tr><td>97791</td><td>2</td><td>87791</td><td>1</td></tr></table>"
      ],
      "text/plain": [
       "<IPython.core.display.HTML object>"
      ]
     },
     "metadata": {},
     "output_type": "display_data"
    }
   ],
   "source": [
    "# step 3: look up sample values\n",
    "\n",
    "print(\"CVR Stratum\")\n",
    "\n",
    "cvr_sample = []\n",
    "for s in sample1[m]:\n",
    "    original_ballot_label, batch_label, which_ballot = find_ballot(s, \\\n",
    "                                                                   unique_cvr_manifest, \\\n",
    "                                                                   cvr_manifest_parsed)\n",
    "    if s in sample1[~m]:\n",
    "        cvr_sample.append([s, batch_label, which_ballot, np.sum(np.array(sample1) == s)])\n",
    "    else:\n",
    "        cvr_sample.append([s, batch_label, which_ballot, 1])\n",
    "        \n",
    "cvr_sample.sort(key=lambda x: x[2]) # Sort second on order within batches\n",
    "cvr_sample.sort(key=lambda x: x[1]) # Sort first based on batch label\n",
    "cvr_sample.insert(0,[\"sampled ballot\", \"batch label\", \"which ballot in batch\", \"# times sampled\"])\n",
    "\n",
    "display(HTML(\n",
    "    '<table><tr>{}</tr></table>'.format(\n",
    "        '</tr><tr>'.join(\n",
    "            '<td>{}</td>'.format('</td><td>'.join(str(_) for _ in row)) for row in cvr_sample)\n",
    "        )\n",
    " ))"
   ]
  },
  {
   "cell_type": "code",
   "execution_count": 26,
   "metadata": {
    "collapsed": false
   },
   "outputs": [
    {
     "name": "stdout",
     "output_type": "stream",
     "text": [
      "Polling Stratum\n"
     ]
    },
    {
     "data": {
      "text/html": [
       "<table><tr><td>sampled ballot</td><td>batch label</td><td>which ballot in batch</td></tr><tr><td>1132</td><td>2</td><td>132</td></tr><tr><td>4783</td><td>2</td><td>3783</td></tr></table>"
      ],
      "text/plain": [
       "<IPython.core.display.HTML object>"
      ]
     },
     "metadata": {},
     "output_type": "display_data"
    }
   ],
   "source": [
    "print(\"Polling Stratum\")\n",
    "\n",
    "nocvr_sample = []\n",
    "for s in sample2:\n",
    "    original_ballot_label, batch_label, which_ballot = find_ballot(s, \\\n",
    "                                                                   unique_poll_manifest, \\\n",
    "                                                                   poll_manifest_parsed)\n",
    "    nocvr_sample.append([s, batch_label, which_ballot])\n",
    "\n",
    "nocvr_sample.sort(key=lambda x: x[2]) # Sort second on order within batches\n",
    "nocvr_sample.sort(key=lambda x: x[1]) # Sort first based on batch label\n",
    "nocvr_sample.insert(0,[\"sampled ballot\", \"batch label\", \"which ballot in batch\"])\n",
    "\n",
    "display(HTML(\n",
    "    '<table><tr>{}</tr></table>'.format(\n",
    "        '</tr><tr>'.join(\n",
    "            '<td>{}</td>'.format('</td><td>'.join(str(_) for _ in row)) for row in nocvr_sample)\n",
    "        )\n",
    " ))"
   ]
  },
  {
   "cell_type": "markdown",
   "metadata": {},
   "source": [
    "# Enter the sample data"
   ]
  },
  {
   "cell_type": "markdown",
   "metadata": {},
   "source": [
    "## Sample statistics for the CVR stratum (stratum 1)"
   ]
  },
  {
   "cell_type": "code",
   "execution_count": 27,
   "metadata": {
    "collapsed": false
   },
   "outputs": [
    {
     "name": "stdout",
     "output_type": "stream",
     "text": [
      "The sample size in the CVR stratum was 58\n"
     ]
    }
   ],
   "source": [
    "print(\"The sample size in the CVR stratum was\", n1)"
   ]
  },
  {
   "cell_type": "code",
   "execution_count": 28,
   "metadata": {
    "collapsed": false
   },
   "outputs": [
    {
     "data": {
      "text/plain": [
       "(4, 0, 0, 0)"
      ]
     },
     "metadata": {},
     "output_type": "display_data"
    }
   ],
   "source": [
    "# Number of observed...\n",
    "\n",
    "def cvr_audit_inputs(o1, o2, u1, u2):\n",
    "    return (o1, o2, u1, u2)\n",
    "\n",
    "cvr_stats = interactive(cvr_audit_inputs,\n",
    "                             o1 = widgets.IntSlider(min=0,max=n1,value=0),\n",
    "                             u1 = widgets.IntSlider(min=0,max=n1,value=0),\n",
    "                             o2 = widgets.IntSlider(min=0,max=n1,value=0),\n",
    "                             u2 = widgets.IntSlider(min=0,max=n1,value=0))\n",
    "display(cvr_stats)"
   ]
  },
  {
   "cell_type": "code",
   "execution_count": 29,
   "metadata": {
    "collapsed": false
   },
   "outputs": [],
   "source": [
    "(o1, o2, u1, u2) = [cvr_stats.children[i].value for i in range(4)]"
   ]
  },
  {
   "cell_type": "markdown",
   "metadata": {},
   "source": [
    "## Sample statistics for the no-CVR stratum (stratum 2)"
   ]
  },
  {
   "cell_type": "code",
   "execution_count": 30,
   "metadata": {
    "collapsed": false
   },
   "outputs": [
    {
     "name": "stdout",
     "output_type": "stream",
     "text": [
      "The sample size in the no-CVR stratum was 2\n"
     ]
    }
   ],
   "source": [
    "print(\"The sample size in the no-CVR stratum was\", n2)"
   ]
  },
  {
   "cell_type": "code",
   "execution_count": 31,
   "metadata": {
    "collapsed": false
   },
   "outputs": [],
   "source": [
    "nocvr_widgets=[]\n",
    "\n",
    "# create the widgets\n",
    "for name in candidates.keys():\n",
    "    nocvr_widgets.append(widgets.IntSlider(value=0,min=0,max=n2,description=name))\n",
    "\n",
    "# It'd be great to constrain their sum to be <= n2\n",
    "\n",
    "#for widget in nocvr_widgets:\n",
    "#    widget.observe(lambda change:myfct(change,nocvr_widgets),names='value',type='change')\n",
    "\n",
    "# group the widgets into a FlexBox\n",
    "nocvr_audit_inputs = widgets.VBox(children=nocvr_widgets)\n",
    "\n",
    "# display the widgets\n",
    "display(nocvr_audit_inputs)"
   ]
  },
  {
   "cell_type": "code",
   "execution_count": 32,
   "metadata": {
    "collapsed": false
   },
   "outputs": [
    {
     "name": "stdout",
     "output_type": "stream",
     "text": [
      "{'candidate 1': 0, 'candidate 2': 1, 'candidate 3': 1, 'candidate 4': 0}\n"
     ]
    }
   ],
   "source": [
    "# no-CVR sample is stored in a dict with name, votes in the sample\n",
    "\n",
    "observed_poll = {}\n",
    "for widget in nocvr_widgets:\n",
    "    observed_poll[widget.description] = widget.value\n",
    "\n",
    "assert np.sum(list(observed_poll.values())) <= n2, \"Too many ballots input\"\n",
    "pprint.pprint(observed_poll)\n"
   ]
  },
  {
   "cell_type": "markdown",
   "metadata": {},
   "source": [
    "# What's the risk for this sample?\n",
    "\n",
    "The audit looks at every (winner, loser) pair in each contest. Auditing continues until there is strong evidence that every winner in a contest got more votes than every loser in the contest. It does this by considering (winner, loser) pairs. The SUITE risk for every pair will appear beneath the cell below after it is run. The audit continues until all the numbers are not larger than the risk limit. E.g., if the risk limit is 10%, the audit stops when the numbers in the table are all less than 0.1."
   ]
  },
  {
   "cell_type": "code",
   "execution_count": 33,
   "metadata": {
    "collapsed": false
   },
   "outputs": [
    {
     "name": "stdout",
     "output_type": "stream",
     "text": [
      "{('candidate 2', 'candidate 1'): 0.000559079396423412,\n",
      " ('candidate 2', 'candidate 4'): 2.1979159844032203e-05,\n",
      " ('candidate 3', 'candidate 1'): 0.20888266396976807,\n",
      " ('candidate 3', 'candidate 4'): 0.017240546054504646}\n"
     ]
    }
   ],
   "source": [
    "# Find audit p-values across (winner, loser) pairs\n",
    "\n",
    "audit_pvalues = audit_contest(candidates, winners, losers, stratum_sizes, \\\n",
    "                  n1, n2, o1, o2, u1, u2, observed_poll, \\\n",
    "                  risk_limit=risk_limit, gamma=gamma, stepsize=lambda_step)\n",
    "pprint.pprint(audit_pvalues)"
   ]
  },
  {
   "cell_type": "code",
   "execution_count": 34,
   "metadata": {
    "collapsed": false
   },
   "outputs": [
    {
     "name": "stdout",
     "output_type": "stream",
     "text": [
      "Pairs not yet confirmed:\n",
      " [('candidate 3', 'candidate 1')]\n"
     ]
    }
   ],
   "source": [
    "# Track contests not yet confirmed\n",
    "\n",
    "contests_not_yet_confirmed = [i[0] for i in audit_pvalues.items() \\\n",
    "                              if i[1]>risk_limit]\n",
    "print(\"Pairs not yet confirmed:\\n\", contests_not_yet_confirmed)\n",
    "\n",
    "winners_not_yet_confirmed = list(set(list(map(lambda x: x[0], contests_not_yet_confirmed))))\n",
    "losers_not_yet_confirmed = list(set(list(map(lambda x: x[1], contests_not_yet_confirmed))))"
   ]
  },
  {
   "cell_type": "code",
   "execution_count": 35,
   "metadata": {
    "collapsed": false
   },
   "outputs": [],
   "source": [
    "# Save everything to file\n",
    "\n",
    "\n",
    "write_audit_results(\"audit_results.json\", \\\n",
    "                        n1, n2, sample1, sample2, \\\n",
    "                        o1, o2, u1, u2, observed_poll, \\\n",
    "                        audit_pvalues, prng.getstate())"
   ]
  },
  {
   "cell_type": "markdown",
   "metadata": {},
   "source": [
    "# Escalation guidance: how many more ballots should be drawn?\n",
    "\n",
    "This tool estimates how many more ballots should be examined to confirm any remaining contests. The enlarged sample size is based on the following:\n",
    "* ballots that have already been sampled\n",
    "* assumption that we will continue to see overstatements and understatements at the same rate that they've been observed in the sample so far\n",
    "* assumption that vote proportions in the ballot-polling stratum will reflect the reported proportions\n",
    "\n",
    "Given these additional numbers, return to the sampling tool and draw additional ballots, find them with the ballot manifest tool, update the observed sample values, and rerun the SUITE risk calculations."
   ]
  },
  {
   "cell_type": "code",
   "execution_count": 36,
   "metadata": {
    "collapsed": false
   },
   "outputs": [],
   "source": [
    "sample_sizes_new = {}\n",
    "\n",
    "# Add a reminder note about the candidate dict structure.\n",
    "\n",
    "for k in contests_not_yet_confirmed:\n",
    "    sample_sizes_new[k] = estimate_escalation_n(\\\n",
    "                                 N_w1 = candidates[k[0]][0],\\\n",
    "                                 N_w2 = candidates[k[0]][1],\\\n",
    "                                 N_l1 = candidates[k[1]][0],\\\n",
    "                                 N_l2 = candidates[k[1]][1],\\\n",
    "                                 N1 = stratum_sizes[0],\\\n",
    "                                 N2 = stratum_sizes[1],\\\n",
    "                                 n1 = n1,\\\n",
    "                                 n2 = n2,\\\n",
    "                                 o1_obs = o1,\\\n",
    "                                 o2_obs = o2,\\\n",
    "                                 u1_obs = u1,\\\n",
    "                                 u2_obs = u2,\\\n",
    "                                 n2l_obs = observed_poll[k[1]],\\\n",
    "                                 n2w_obs = observed_poll[k[0]],\\\n",
    "                                 n_ratio = n_ratio,\\\n",
    "                                 risk_limit = risk_limit,\\\n",
    "                                 gamma = gamma,\\\n",
    "                                 stepsize = lambda_step,\n",
    "                                 risk_limit_tol = 0.8)"
   ]
  },
  {
   "cell_type": "code",
   "execution_count": 37,
   "metadata": {
    "collapsed": false
   },
   "outputs": [
    {
     "name": "stdout",
     "output_type": "stream",
     "text": [
      "estimated sample sizes for each contest:\n",
      "\n",
      "{('candidate 3', 'candidate 1'): (98, 4)}\n",
      "\n",
      "\n",
      "expected minimum sample size needed to confirm remaining pairs: 102\n",
      "\n",
      "Ballots to draw in the CVR stratum: 40\n",
      "Ballots to draw in the no-CVR stratum: 2\n"
     ]
    }
   ],
   "source": [
    "sample_size_new = np.amax([v[0]+v[1] for v in sample_sizes_new.values()])\n",
    "n1_new = np.amax([v[0] for v in sample_sizes_new.values()])\n",
    "n2_new = np.amax([v[1] for v in sample_sizes_new.values()])\n",
    "\n",
    "\n",
    "print(\"estimated sample sizes for each contest:\\n\")\n",
    "pprint.pprint(sample_sizes_new)\n",
    "print('\\n\\nexpected minimum sample size needed to confirm remaining pairs:', sample_size_new)\n",
    "print(\"\\nBallots to draw in the CVR stratum:\", n1_new - n1)\n",
    "print(\"Ballots to draw in the no-CVR stratum:\", n2_new - n2)"
   ]
  },
  {
   "cell_type": "markdown",
   "metadata": {
    "collapsed": false
   },
   "source": [
    "# Draw additional ballots"
   ]
  },
  {
   "cell_type": "code",
   "execution_count": 38,
   "metadata": {
    "collapsed": false
   },
   "outputs": [
    {
     "name": "stdout",
     "output_type": "stream",
     "text": [
      "SHA256 PRNG with seed 12345678901234567890 and counter 6\n"
     ]
    }
   ],
   "source": [
    "# print the current state of the PRNG after drawing the initial samples\n",
    "print(prng) "
   ]
  },
  {
   "cell_type": "code",
   "execution_count": 39,
   "metadata": {
    "collapsed": false
   },
   "outputs": [],
   "source": [
    "# CVR stratum sample size, sampled with replacement\n",
    "sample1 = prng.randint(1, stratum_sizes[0]+1, size=n1_new - n1)\n",
    "\n",
    "# No-CVR ballots are sampled without replacement\n",
    "remaining_ballots = [i for i in range(stratum_sizes[1]) if i not in sample2]\n",
    "sample2 = random_sample(remaining_ballots, size=n2_new - n2, replace=False, prng=prng)"
   ]
  },
  {
   "cell_type": "markdown",
   "metadata": {},
   "source": [
    "### CVR stratum sample"
   ]
  },
  {
   "cell_type": "code",
   "execution_count": null,
   "metadata": {
    "collapsed": false
   },
   "outputs": [],
   "source": [
    "print(\"CVR stratum sample:\\n\", sample1)"
   ]
  },
  {
   "cell_type": "code",
   "execution_count": null,
   "metadata": {
    "collapsed": false,
    "scrolled": true
   },
   "outputs": [],
   "source": [
    "print(\"CVR stratum sample, sorted:\\n\", np.sort(sample1))"
   ]
  },
  {
   "cell_type": "code",
   "execution_count": null,
   "metadata": {
    "collapsed": false
   },
   "outputs": [],
   "source": [
    "print(\"CVR stratum sample, sorted, duplicates removed:\\n\", np.unique(np.sort(sample1)))"
   ]
  },
  {
   "cell_type": "code",
   "execution_count": null,
   "metadata": {
    "collapsed": false
   },
   "outputs": [],
   "source": [
    "m = np.zeros_like(sample1, dtype=bool)\n",
    "m[np.unique(sample1, return_index=True)[1]] = True\n",
    "print(\"CVR stratum repeated ballots:\\n\", sample1[~m])"
   ]
  },
  {
   "cell_type": "markdown",
   "metadata": {},
   "source": [
    "### No-CVR sample"
   ]
  },
  {
   "cell_type": "code",
   "execution_count": null,
   "metadata": {
    "collapsed": false
   },
   "outputs": [],
   "source": [
    "print(\"No-CVR stratum sample:\\n\", sample2)"
   ]
  },
  {
   "cell_type": "code",
   "execution_count": null,
   "metadata": {
    "collapsed": false,
    "scrolled": true
   },
   "outputs": [],
   "source": [
    "print(\"No-CVR stratum sample, sorted:\\n\", np.sort(sample2))"
   ]
  },
  {
   "cell_type": "markdown",
   "metadata": {},
   "source": [
    "# Find ballots using ballot manifest"
   ]
  },
  {
   "cell_type": "code",
   "execution_count": null,
   "metadata": {
    "collapsed": false
   },
   "outputs": [],
   "source": [
    "# look up sample values\n",
    "\n",
    "print(\"CVR Stratum\")\n",
    "\n",
    "cvr_sample = []\n",
    "for s in sample1[m]:\n",
    "    original_ballot_label, batch_label, which_ballot = find_ballot(s, \\\n",
    "                                                                   unique_cvr_manifest, \\\n",
    "                                                                   cvr_manifest_parsed)\n",
    "    if s in sample1[~m]:\n",
    "        cvr_sample.append([s, batch_label, which_ballot, np.sum(np.array(sample1) == s)])\n",
    "    else:\n",
    "        cvr_sample.append([s, batch_label, which_ballot, 1])\n",
    "\n",
    "\n",
    "\n",
    "cvr_sample.sort(key=lambda x: x[2]) # Sort second on order within batches\n",
    "cvr_sample.sort(key=lambda x: x[1]) # Sort first based on batch label\n",
    "cvr_sample.insert(0,[\"sampled ballot\", \"batch label\", \"which ballot in batch\", \"# times sampled\"])\n",
    "\n",
    "display(HTML(\n",
    "    '<table><tr>{}</tr></table>'.format(\n",
    "        '</tr><tr>'.join(\n",
    "            '<td>{}</td>'.format('</td><td>'.join(str(_) for _ in row)) for row in cvr_sample)\n",
    "        )\n",
    " ))"
   ]
  },
  {
   "cell_type": "code",
   "execution_count": null,
   "metadata": {
    "collapsed": false
   },
   "outputs": [],
   "source": [
    "print(\"Polling Stratum\")\n",
    "\n",
    "nocvr_sample = []\n",
    "for s in sample2:\n",
    "    original_ballot_label, batch_label, which_ballot = find_ballot(s, \\\n",
    "                                                                   unique_poll_manifest, \\\n",
    "                                                                   poll_manifest_parsed)\n",
    "    nocvr_sample.append([s, batch_label, which_ballot])\n",
    "\n",
    "nocvr_sample.sort(key=lambda x: x[2]) # Sort second on order within batches\n",
    "nocvr_sample.sort(key=lambda x: x[1]) # Sort first based on batch label\n",
    "nocvr_sample.insert(0,[\"sampled ballot\", \"batch label\", \"which ballot in batch\"])\n",
    "\n",
    "display(HTML(\n",
    "    '<table><tr>{}</tr></table>'.format(\n",
    "        '</tr><tr>'.join(\n",
    "            '<td>{}</td>'.format('</td><td>'.join(str(_) for _ in row)) for row in nocvr_sample)\n",
    "        )\n",
    " ))"
   ]
  },
  {
   "cell_type": "markdown",
   "metadata": {},
   "source": [
    "# Enter the data from the *combined* sample"
   ]
  },
  {
   "cell_type": "markdown",
   "metadata": {},
   "source": [
    "## Sample statistics for the CVR stratum (stratum 1).\n",
    "Update the numbers below to include what was seen in the initial sample PLUS what was seen in the new sample."
   ]
  },
  {
   "cell_type": "code",
   "execution_count": null,
   "metadata": {
    "collapsed": false
   },
   "outputs": [],
   "source": [
    "print(\"The initial sample size in the CVR stratum was\", n1, \\\n",
    "      \"and the new sample size was\", n1_new)\n",
    "print(\"The observed overstatements and understatements from the original sample were\")\n",
    "pprint.pprint({\"o1\" : o1, \"o2\" : o2, \"u1\" : u1, \"u2\" : u2})"
   ]
  },
  {
   "cell_type": "code",
   "execution_count": null,
   "metadata": {
    "collapsed": false
   },
   "outputs": [],
   "source": [
    "# Number of observed...\n",
    "\n",
    "def cvr_audit_inputs(o1, o2, u1, u2):\n",
    "    return (o1, o2, u1, u2)\n",
    "\n",
    "cvr_stats = interactive(cvr_audit_inputs,\n",
    "                             o1 = widgets.IntSlider(min=0,max=n1_new,value=0),\n",
    "                             u1 = widgets.IntSlider(min=0,max=n1_new,value=0),\n",
    "                             o2 = widgets.IntSlider(min=0,max=n1_new,value=0),\n",
    "                             u2 = widgets.IntSlider(min=0,max=n1_new,value=0))\n",
    "display(cvr_stats)"
   ]
  },
  {
   "cell_type": "code",
   "execution_count": null,
   "metadata": {
    "collapsed": false
   },
   "outputs": [],
   "source": [
    "(o1, o2, u1, u2) = [cvr_stats.children[i].value for i in range(4)]"
   ]
  },
  {
   "cell_type": "markdown",
   "metadata": {},
   "source": [
    "## Sample statistics for the no-CVR stratum (stratum 2)\n",
    "Update the numbers below to include what was seen in the initial sample PLUS what was seen in the new sample."
   ]
  },
  {
   "cell_type": "code",
   "execution_count": null,
   "metadata": {
    "collapsed": false
   },
   "outputs": [],
   "source": [
    "print(\"The initial sample size in the no-CVR stratum was\", n2, \\\n",
    "      \"and the new sample size was\", n2_new)\n",
    "print(\"The observed tallies from the original sample were\")\n",
    "pprint.pprint(observed_poll)"
   ]
  },
  {
   "cell_type": "code",
   "execution_count": null,
   "metadata": {
    "collapsed": false
   },
   "outputs": [],
   "source": [
    "nocvr_widgets=[]\n",
    "\n",
    "# create the widgets\n",
    "for name in candidates.keys():\n",
    "    nocvr_widgets.append(widgets.IntSlider(value=0,min=0,max=n2_new,description=name))\n",
    "\n",
    "# It'd be great to constrain their sum to be <= n2_new\n",
    "\n",
    "#for widget in nocvr_widgets:\n",
    "#    widget.observe(lambda change:myfct(change,nocvr_widgets),names='value',type='change')\n",
    "\n",
    "# group the widgets into a FlexBox\n",
    "nocvr_audit_inputs = widgets.VBox(children=nocvr_widgets)\n",
    "\n",
    "# display the widgets\n",
    "display(nocvr_audit_inputs)"
   ]
  },
  {
   "cell_type": "code",
   "execution_count": null,
   "metadata": {
    "collapsed": false
   },
   "outputs": [],
   "source": [
    "# no-CVR sample is stored in a dict with name, votes in the sample\n",
    "\n",
    "observed_poll = {}\n",
    "for widget in nocvr_widgets:\n",
    "    observed_poll[widget.description] = widget.value\n",
    "\n",
    "assert np.sum(list(observed_poll.values())) <= n2_new, \"Too many ballots input\"\n",
    "pprint.pprint(observed_poll)\n"
   ]
  },
  {
   "cell_type": "markdown",
   "metadata": {},
   "source": [
    "# What's the risk for this sample?\n",
    "\n",
    "The audit looks at every (winner, loser) pair in each contest. Auditing continues until there is strong evidence that every winner in a contest got more votes than every loser in the contest. It does this by considering (winner, loser) pairs. The SUITE risk for every pair will appear beneath the cell below after it is run. The audit continues until all the numbers are not larger than the risk limit. E.g., if the risk limit is 10%, the audit stops when the numbers in the table are all less than 0.1."
   ]
  },
  {
   "cell_type": "code",
   "execution_count": null,
   "metadata": {
    "collapsed": false
   },
   "outputs": [],
   "source": [
    "# Find audit p-values across (winner, loser) pairs\n",
    "\n",
    "audit_pvalues = audit_contest(candidates, winners_not_yet_confirmed, \\\n",
    "                              losers_not_yet_confirmed, stratum_sizes, \\\n",
    "                              n1_new, n2_new, o1, o2, u1, u2, observed_poll, \\\n",
    "                              risk_limit=risk_limit, gamma=gamma, stepsize=lambda_step)\n",
    "pprint.pprint(audit_pvalues)"
   ]
  },
  {
   "cell_type": "code",
   "execution_count": null,
   "metadata": {
    "collapsed": false
   },
   "outputs": [],
   "source": [
    "# Track contests not yet confirmed\n",
    "\n",
    "contests_not_yet_confirmed = [i[0] for i in audit_pvalues.items() \\\n",
    "                              if i[1]>risk_limit]\n",
    "print(\"Pairs not yet confirmed:\\n\", contests_not_yet_confirmed)"
   ]
  },
  {
   "cell_type": "code",
   "execution_count": null,
   "metadata": {
    "collapsed": false
   },
   "outputs": [],
   "source": [
    "# Save everything to file\n",
    "\n",
    "\n",
    "write_audit_results(\"audit_results2.json\", \\\n",
    "                        n1_new, n2_new, sample1, sample2, \\\n",
    "                        o1, o2, u1, u2, observed_poll, \\\n",
    "                        audit_pvalues, prng.getstate())"
   ]
  }
 ],
 "metadata": {
  "kernelspec": {
   "display_name": "Python 3",
   "language": "python",
   "name": "python3"
  },
  "language_info": {
   "codemirror_mode": {
    "name": "ipython",
    "version": 3
   },
   "file_extension": ".py",
   "mimetype": "text/x-python",
   "name": "python",
   "nbconvert_exporter": "python",
   "pygments_lexer": "ipython3",
   "version": "3.4.3"
  },
  "widgets": {
   "state": {
    "5b27f7d1ed2b4ec9944e52a6f20bca2d": {
     "views": [
      {
       "cell_index": 39
      }
     ]
    },
    "8430cc8cf9e34815a009908089e5cc00": {
     "views": [
      {
       "cell_index": 43
      }
     ]
    }
   },
   "version": "1.2.0"
  }
 },
 "nbformat": 4,
 "nbformat_minor": 2
}
